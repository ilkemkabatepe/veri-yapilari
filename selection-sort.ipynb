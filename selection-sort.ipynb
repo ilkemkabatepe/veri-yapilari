{
 "cells": [
  {
   "cell_type": "markdown",
   "id": "b3f12706-4653-4f60-a2bf-bed30bb92a74",
   "metadata": {},
   "source": [
    "Soru1 : [22,27,16,2,18,6] - Insertion Sort\n",
    "\n",
    "Dizinin sort türüne göre aşamalarını yazınız."
   ]
  },
  {
   "cell_type": "code",
   "execution_count": null,
   "id": "9daa7af2-4135-413b-9edf-8c6b3c9a1786",
   "metadata": {},
   "outputs": [],
   "source": [
    "[22,27,16,2,18,6] #Sıralamak için ilk elemandan başlayacağız (22). Sadece 22 sayısını sıralamış olduk.\n",
    "# Sonraki sıralayacağımız eleman 27. 27 sayısı 22'den büyük olduğu için yer değiştirmiyoruz\n",
    "[22,27,16,2,18,6] #Sonraki sıralayacağımız eleman 16. 16 sayısı 27'den küçük olduğu için yer değiştiriyor.\n",
    "#Fakat 16 sayısı 22'den de küçük olduğu için en başa yerleşiyor. Yeni sıralama şu şekilde;\n",
    "[16,22,27,2,18,6] #Bu şekilde devam ederek tüm elemanları gözden geçirerek sıralıyoruz.\n",
    "[2,16,22,27,18,6]\n",
    "[2,16,18,22,27,6]\n",
    "[2,6,16,18,22,27]"
   ]
  },
  {
   "cell_type": "markdown",
   "id": "c3d02292-c3c4-47f4-95db-2340655d2734",
   "metadata": {},
   "source": [
    "Soru2 : Big-O gösterimini yazınız."
   ]
  },
  {
   "cell_type": "code",
   "execution_count": null,
   "id": "ff7a2c66-aa83-4d0e-9623-ade77f7e37ee",
   "metadata": {},
   "outputs": [],
   "source": [
    "n elemanlı dizide (n-1) tane işlem gerçekleştiriyoruz => n(n-1) => n^2 - n => O(n^2)"
   ]
  },
  {
   "cell_type": "markdown",
   "id": "317c1bdc-8e07-4bc6-8097-800e49a60e21",
   "metadata": {},
   "source": [
    "Soru3 : Time Complexity: Dizi sıralandıktan sonra 18 sayısı aşağıdaki case'lerden hangisinin kapsamına girer? Yazınız\n",
    "\n",
    "Average case: Aradığımız sayının ortada olması\n",
    "\n",
    "Worst case: Aradığımız sayının sonda olması\n",
    "\n",
    "Best case: Aradığımız sayının dizinin en başında olması."
   ]
  },
  {
   "cell_type": "code",
   "execution_count": null,
   "id": "6dff076f-9312-41cd-a83b-15f349940297",
   "metadata": {},
   "outputs": [],
   "source": [
    "Dizinin ortasında yer aldığı için Avarage case kapsamına girer."
   ]
  },
  {
   "cell_type": "markdown",
   "id": "104c689f-490a-4b0a-9f3a-3307bbb42f7c",
   "metadata": {},
   "source": [
    "Soru4 : [7,3,5,8,2,9,4,15,6] dizisinin Selection Sort'a göre ilk 4 adımını yazınız"
   ]
  },
  {
   "cell_type": "code",
   "execution_count": null,
   "id": "738f309d-0045-4488-a2d1-c33c29fa4c16",
   "metadata": {},
   "outputs": [],
   "source": [
    "[7,3,5,8,2,9,4,15,6]\n",
    "[2,3,5,8,7,9,4,15,6]\n",
    "[2,3,5,8,7,9,4,15,6]\n",
    "[2,3,4,8,7,9,5,15,6]\n",
    "[2,3,4,5,7,9,8,15,6]"
   ]
  }
 ],
 "metadata": {
  "kernelspec": {
   "display_name": "Python 3 (ipykernel)",
   "language": "python",
   "name": "python3"
  },
  "language_info": {
   "codemirror_mode": {
    "name": "ipython",
    "version": 3
   },
   "file_extension": ".py",
   "mimetype": "text/x-python",
   "name": "python",
   "nbconvert_exporter": "python",
   "pygments_lexer": "ipython3",
   "version": "3.9.13"
  }
 },
 "nbformat": 4,
 "nbformat_minor": 5
}
